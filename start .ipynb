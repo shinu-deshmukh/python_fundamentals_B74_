{
 "cells": [
  {
   "cell_type": "code",
   "execution_count": 1,
   "id": "fddfae92",
   "metadata": {},
   "outputs": [
    {
     "name": "stdout",
     "output_type": "stream",
     "text": [
      "Hello welcome to python program...\n"
     ]
    }
   ],
   "source": [
    "print(\"Hello welcome to python program...\")\n"
   ]
  },
  {
   "cell_type": "code",
   "execution_count": 3,
   "id": "17cb77aa",
   "metadata": {},
   "outputs": [
    {
     "name": "stdout",
     "output_type": "stream",
     "text": [
      "sum =  26\n"
     ]
    }
   ],
   "source": [
    "a=3\n",
    "b=23\n",
    "c=a+b\n",
    "print(\"sum = \",c)"
   ]
  }
 ],
 "metadata": {
  "kernelspec": {
   "display_name": "Python 3 (ipykernel)",
   "language": "python",
   "name": "python3"
  },
  "language_info": {
   "codemirror_mode": {
    "name": "ipython",
    "version": 3
   },
   "file_extension": ".py",
   "mimetype": "text/x-python",
   "name": "python",
   "nbconvert_exporter": "python",
   "pygments_lexer": "ipython3",
   "version": "3.9.13"
  }
 },
 "nbformat": 4,
 "nbformat_minor": 5
}
