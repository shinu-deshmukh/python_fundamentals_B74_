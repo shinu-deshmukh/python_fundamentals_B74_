{
 "cells": [
  {
   "cell_type": "code",
   "execution_count": 2,
   "id": "b6dc743c",
   "metadata": {},
   "outputs": [],
   "source": [
    "first_name = 'snehal'\n",
    "last_name = 'deshmukh'"
   ]
  },
  {
   "cell_type": "code",
   "execution_count": null,
   "id": "af1dac81",
   "metadata": {},
   "outputs": [],
   "source": [
    "# req : i want to get the full name ?"
   ]
  },
  {
   "cell_type": "code",
   "execution_count": null,
   "id": "2a9b252d",
   "metadata": {},
   "outputs": [],
   "source": [
    "f\" customer words { place_holder - 1} {place_holder - 2} .......{place_holder - n}\""
   ]
  },
  {
   "cell_type": "code",
   "execution_count": 3,
   "id": "b4d8dc8a",
   "metadata": {},
   "outputs": [
    {
     "name": "stdout",
     "output_type": "stream",
     "text": [
      "snehal deshmukh\n"
     ]
    }
   ],
   "source": [
    "full_name = f\"{first_name} {last_name}\"\n",
    "print(full_name)"
   ]
  },
  {
   "cell_type": "code",
   "execution_count": 5,
   "id": "57386d66",
   "metadata": {},
   "outputs": [
    {
     "name": "stdout",
     "output_type": "stream",
     "text": [
      " keep up the good work, Snehal Deshmukh\n"
     ]
    }
   ],
   "source": [
    "message = f\" keep up the good work, {full_name.title()}\"\n",
    "print(message)"
   ]
  },
  {
   "cell_type": "code",
   "execution_count": 7,
   "id": "447c8d8a",
   "metadata": {},
   "outputs": [
    {
     "name": "stdout",
     "output_type": "stream",
     "text": [
      "favourite_programming_langauge:\n",
      "python\n",
      "java\n",
      ".net\n",
      "c++\n",
      "cpbal\n",
      "swift\n"
     ]
    }
   ],
   "source": [
    "print(\"favourite_programming_langauge:\\npython\\njava\\n.net\\nc++\\ncpbal\\nswift\")"
   ]
  },
  {
   "cell_type": "code",
   "execution_count": 8,
   "id": "291ceefa",
   "metadata": {},
   "outputs": [
    {
     "name": "stdout",
     "output_type": "stream",
     "text": [
      "favourite_programming_langauge:\n",
      "\tpython\n",
      "\tjava\n",
      "\t.net\n",
      "\tc++\n",
      "\tcpbal\n",
      "\tswift\n"
     ]
    }
   ],
   "source": [
    "print(\"favourite_programming_langauge:\\n\\tpython\\n\\tjava\\n\\t.net\\n\\tc++\\n\\tcpbal\\n\\tswift\")"
   ]
  },
  {
   "cell_type": "markdown",
   "id": "01d4ffbb",
   "metadata": {},
   "source": []
  },
  {
   "cell_type": "markdown",
   "id": "2f82e6b3",
   "metadata": {},
   "source": []
  },
  {
   "cell_type": "code",
   "execution_count": 9,
   "id": "17f9bffe",
   "metadata": {},
   "outputs": [
    {
     "name": "stdout",
     "output_type": "stream",
     "text": [
      "python\n"
     ]
    }
   ],
   "source": [
    "name1 = 'python'\n",
    "print(name1)"
   ]
  },
  {
   "cell_type": "code",
   "execution_count": 10,
   "id": "c2093cc9",
   "metadata": {},
   "outputs": [
    {
     "name": "stdout",
     "output_type": "stream",
     "text": [
      "     python\n"
     ]
    }
   ],
   "source": [
    "name2 = '     python'\n",
    "print(name2)"
   ]
  },
  {
   "cell_type": "code",
   "execution_count": 11,
   "id": "571424a1",
   "metadata": {},
   "outputs": [
    {
     "name": "stdout",
     "output_type": "stream",
     "text": [
      "python    \n"
     ]
    }
   ],
   "source": [
    "name3 = 'python    '\n",
    "print(name3)"
   ]
  },
  {
   "cell_type": "code",
   "execution_count": 12,
   "id": "43d7c987",
   "metadata": {},
   "outputs": [
    {
     "data": {
      "text/plain": [
       "'python'"
      ]
     },
     "execution_count": 12,
     "metadata": {},
     "output_type": "execute_result"
    }
   ],
   "source": [
    "name2.lstrip()"
   ]
  },
  {
   "cell_type": "code",
   "execution_count": 13,
   "id": "13acd455",
   "metadata": {},
   "outputs": [
    {
     "data": {
      "text/plain": [
       "'python'"
      ]
     },
     "execution_count": 13,
     "metadata": {},
     "output_type": "execute_result"
    }
   ],
   "source": [
    "name3.rstrip()"
   ]
  },
  {
   "cell_type": "code",
   "execution_count": 14,
   "id": "0feb5f02",
   "metadata": {},
   "outputs": [
    {
     "name": "stdout",
     "output_type": "stream",
     "text": [
      "   python  \n"
     ]
    }
   ],
   "source": [
    "name4 = '   python  '\n",
    "print(name4)"
   ]
  },
  {
   "cell_type": "code",
   "execution_count": 15,
   "id": "ac2d7b62",
   "metadata": {},
   "outputs": [
    {
     "data": {
      "text/plain": [
       "'python'"
      ]
     },
     "execution_count": 15,
     "metadata": {},
     "output_type": "execute_result"
    }
   ],
   "source": [
    "name4.strip()"
   ]
  },
  {
   "cell_type": "code",
   "execution_count": null,
   "id": "b3ae8029",
   "metadata": {},
   "outputs": [],
   "source": []
  },
  {
   "cell_type": "code",
   "execution_count": null,
   "id": "6afeb5db",
   "metadata": {},
   "outputs": [],
   "source": []
  },
  {
   "cell_type": "code",
   "execution_count": null,
   "id": "035a7b84",
   "metadata": {},
   "outputs": [],
   "source": []
  }
 ],
 "metadata": {
  "kernelspec": {
   "display_name": "Python 3 (ipykernel)",
   "language": "python",
   "name": "python3"
  },
  "language_info": {
   "codemirror_mode": {
    "name": "ipython",
    "version": 3
   },
   "file_extension": ".py",
   "mimetype": "text/x-python",
   "name": "python",
   "nbconvert_exporter": "python",
   "pygments_lexer": "ipython3",
   "version": "3.9.13"
  }
 },
 "nbformat": 4,
 "nbformat_minor": 5
}
